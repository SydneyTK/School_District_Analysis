{
 "cells": [
  {
   "cell_type": "code",
   "execution_count": 1,
   "id": "8a6c7e45",
   "metadata": {},
   "outputs": [
    {
     "name": "stdout",
     "output_type": "stream",
     "text": [
      "Hernandez High School\n",
      "Figuerao High School\n",
      "Wilson High School\n",
      "Wright High School\n"
     ]
    }
   ],
   "source": [
    "#list of high schools \n",
    "high_schools=[\"Hernandez High School\", \"Figuerao High School\", \"Wilson High School\", \"Wright High School\"]\n",
    "\n",
    "for school in high_schools: \n",
    "    print (school)"
   ]
  },
  {
   "cell_type": "code",
   "execution_count": 3,
   "id": "e71d6e1e",
   "metadata": {},
   "outputs": [
    {
     "name": "stdout",
     "output_type": "stream",
     "text": [
      "{'High School': 'Griffin', 'Type': 'District'}\n",
      "{'High School': 'Figueroa', 'Type': 'District'}\n",
      "{'High School': 'Wilson', 'Type': 'Charter'}\n",
      "{'High School': 'Wright', 'Type': 'Charter'}\n"
     ]
    }
   ],
   "source": [
    "#a list of dictionaries of high schools and the type of school. Remember a list of dictionaries is formatted as [{key 1: value 1, key 2: value 2}, {key 1: value 3, key 2: value 4}]\n",
    "high_school_types=[{\"High School\": \"Griffin\",\"Type\":\"District\"},\n",
    "                  {\"High School\": \"Figueroa\", \"Type\": \"District\"},\n",
    "                  {\"High School\": \"Wilson\", \"Type\": \"Charter\"}, \n",
    "                  {\"High School\": \"Wright\", \"Type\": \"Charter\"}]\n",
    "for high_school in high_school_types: \n",
    "    print(high_school)"
   ]
  },
  {
   "cell_type": "code",
   "execution_count": 9,
   "id": "ec2a1421",
   "metadata": {},
   "outputs": [
    {
     "name": "stdout",
     "output_type": "stream",
     "text": [
      "Huang High School\n",
      "Figueroa High School\n",
      "Shelton High School\n",
      "Hernandez High School\n",
      "Griffin High School\n",
      "Wilson High School\n",
      "Cabrera High School\n",
      "Bailey High School\n",
      "Holden High School\n",
      "Pena High School\n",
      "Wright High School\n",
      "Rodriguez High School\n",
      "Johnson High School\n",
      "Ford High School\n",
      "Thomas High School\n"
     ]
    }
   ],
   "source": [
    "#4.3.5 Panda Series, list of high schools \n",
    "high_schools = [\"Huang High School\", \"Figueroa High School\", \"Shelton High School\", \"Hernandez High School\", \"Griffin High School\", \"Wilson High School\", \"Cabrera High School\", \"Bailey High School\", \"Holden High School\", \"Pena High School\", \"Wright High School\", \"Rodriguez High School\", \"Johnson High School\", \"Ford High School\", \"Thomas High School\"]\n",
    "#add the Pandas dependency \n",
    "import pandas as pd \n",
    "\n",
    "#create a pandas series from a list \n",
    "school_series = pd.Series(high_schools)\n",
    "school_series\n",
    "\n",
    "for school in school_series: \n",
    "    print(school)"
   ]
  },
  {
   "cell_type": "code",
   "execution_count": 3,
   "id": "5583c4db",
   "metadata": {},
   "outputs": [
    {
     "data": {
      "text/html": [
       "<div>\n",
       "<style scoped>\n",
       "    .dataframe tbody tr th:only-of-type {\n",
       "        vertical-align: middle;\n",
       "    }\n",
       "\n",
       "    .dataframe tbody tr th {\n",
       "        vertical-align: top;\n",
       "    }\n",
       "\n",
       "    .dataframe thead th {\n",
       "        text-align: right;\n",
       "    }\n",
       "</style>\n",
       "<table border=\"1\" class=\"dataframe\">\n",
       "  <thead>\n",
       "    <tr style=\"text-align: right;\">\n",
       "      <th></th>\n",
       "      <th>School ID</th>\n",
       "      <th>School_Name</th>\n",
       "      <th>Type</th>\n",
       "    </tr>\n",
       "  </thead>\n",
       "  <tbody>\n",
       "    <tr>\n",
       "      <th>0</th>\n",
       "      <td>0</td>\n",
       "      <td>Huang High School</td>\n",
       "      <td>Disctrict</td>\n",
       "    </tr>\n",
       "    <tr>\n",
       "      <th>1</th>\n",
       "      <td>1</td>\n",
       "      <td>Figueroa High School</td>\n",
       "      <td>Disctrict</td>\n",
       "    </tr>\n",
       "    <tr>\n",
       "      <th>2</th>\n",
       "      <td>2</td>\n",
       "      <td>Shelton High School</td>\n",
       "      <td>Charter</td>\n",
       "    </tr>\n",
       "    <tr>\n",
       "      <th>3</th>\n",
       "      <td>3</td>\n",
       "      <td>Hernandez High School</td>\n",
       "      <td>District</td>\n",
       "    </tr>\n",
       "    <tr>\n",
       "      <th>4</th>\n",
       "      <td>4</td>\n",
       "      <td>Griffin High School</td>\n",
       "      <td>Charter</td>\n",
       "    </tr>\n",
       "  </tbody>\n",
       "</table>\n",
       "</div>"
      ],
      "text/plain": [
       "   School ID            School_Name       Type\n",
       "0          0      Huang High School  Disctrict\n",
       "1          1   Figueroa High School  Disctrict\n",
       "2          2    Shelton High School    Charter\n",
       "3          3  Hernandez High School   District\n",
       "4          4    Griffin High School    Charter"
      ]
     },
     "execution_count": 3,
     "metadata": {},
     "output_type": "execute_result"
    }
   ],
   "source": [
    "#4.3.5 Convert a list of dictionaries to dataframe \n",
    "#a dictionary of high schools \n",
    "high_school_dicts= [{\"School ID\":0,\"School_Name\":\"Huang High School\",\"Type\":\"Disctrict\"},\n",
    "                   {\"School ID\":1,\"School_Name\":\"Figueroa High School\",\"Type\":\"Disctrict\"},\n",
    "                   {\"School ID\":2, \"School_Name\":\"Shelton High School\", \"Type\":\"Charter\"}, \n",
    "                   {\"School ID\":3, \"School_Name\":\"Hernandez High School\", \"Type\":\"District\"}, \n",
    "                   {\"School ID\":4, \"School_Name\":\"Griffin High School\", \"Type\":\"Charter\"}]\n",
    "\n",
    "#add the Pandas dependency \n",
    "import pandas as pd\n",
    "\n",
    "#conveert the array or list of dictionaries into a dataframe \n",
    "school_df=pd.DataFrame(high_school_dicts)\n",
    "school_df"
   ]
  },
  {
   "cell_type": "code",
   "execution_count": 5,
   "id": "8a7765ec",
   "metadata": {},
   "outputs": [
    {
     "data": {
      "text/html": [
       "<div>\n",
       "<style scoped>\n",
       "    .dataframe tbody tr th:only-of-type {\n",
       "        vertical-align: middle;\n",
       "    }\n",
       "\n",
       "    .dataframe tbody tr th {\n",
       "        vertical-align: top;\n",
       "    }\n",
       "\n",
       "    .dataframe thead th {\n",
       "        text-align: right;\n",
       "    }\n",
       "</style>\n",
       "<table border=\"1\" class=\"dataframe\">\n",
       "  <thead>\n",
       "    <tr style=\"text-align: right;\">\n",
       "      <th></th>\n",
       "      <th>School Id</th>\n",
       "      <th>School Name</th>\n",
       "      <th>Type</th>\n",
       "    </tr>\n",
       "  </thead>\n",
       "  <tbody>\n",
       "    <tr>\n",
       "      <th>0</th>\n",
       "      <td>0</td>\n",
       "      <td>Huang High School</td>\n",
       "      <td>District</td>\n",
       "    </tr>\n",
       "    <tr>\n",
       "      <th>1</th>\n",
       "      <td>1</td>\n",
       "      <td>Figueroa High School</td>\n",
       "      <td>District</td>\n",
       "    </tr>\n",
       "    <tr>\n",
       "      <th>2</th>\n",
       "      <td>2</td>\n",
       "      <td>Shelton High School</td>\n",
       "      <td>Charter</td>\n",
       "    </tr>\n",
       "    <tr>\n",
       "      <th>3</th>\n",
       "      <td>3</td>\n",
       "      <td>Hernandez High School</td>\n",
       "      <td>District</td>\n",
       "    </tr>\n",
       "    <tr>\n",
       "      <th>4</th>\n",
       "      <td>4</td>\n",
       "      <td>Griffin High School</td>\n",
       "      <td>Charter</td>\n",
       "    </tr>\n",
       "  </tbody>\n",
       "</table>\n",
       "</div>"
      ],
      "text/plain": [
       "   School Id            School Name      Type\n",
       "0          0      Huang High School  District\n",
       "1          1   Figueroa High School  District\n",
       "2          2    Shelton High School   Charter\n",
       "3          3  Hernandez High School  District\n",
       "4          4    Griffin High School   Charter"
      ]
     },
     "execution_count": 5,
     "metadata": {},
     "output_type": "execute_result"
    }
   ],
   "source": [
    "#4.3.5 convert three seperate lists of information on high schools into a dataframe- adding each list seperatly, another method in cell below \n",
    "school_id=[0,1,2,3,4]\n",
    "\n",
    "school_name= [\"Huang High School\",\"Figueroa High School\",\"Shelton High School\",\"Hernandez High School\",\"Griffin High School\"]\n",
    "\n",
    "type_of_school=[\"District\",\"District\",\"Charter\", \"District\", \"Charter\"]\n",
    "\n",
    "#add the Pandas dependency \n",
    "import pandas as pd\n",
    "\n",
    "#Initialize a new Dataframe \n",
    "schools_df=pd.DataFrame()\n",
    "\n",
    "#add the list to the new dataframe \n",
    "schools_df[\"School Id\"]=school_id\n",
    "schools_df[\"School Name\"]=school_name\n",
    "schools_df[\"Type\"]=type_of_school\n",
    "\n",
    "#print the dataframe \n",
    "schools_df\n",
    "\n"
   ]
  },
  {
   "cell_type": "code",
   "execution_count": 8,
   "id": "960aef86",
   "metadata": {},
   "outputs": [
    {
     "data": {
      "text/html": [
       "<div>\n",
       "<style scoped>\n",
       "    .dataframe tbody tr th:only-of-type {\n",
       "        vertical-align: middle;\n",
       "    }\n",
       "\n",
       "    .dataframe tbody tr th {\n",
       "        vertical-align: top;\n",
       "    }\n",
       "\n",
       "    .dataframe thead th {\n",
       "        text-align: right;\n",
       "    }\n",
       "</style>\n",
       "<table border=\"1\" class=\"dataframe\">\n",
       "  <thead>\n",
       "    <tr style=\"text-align: right;\">\n",
       "      <th></th>\n",
       "      <th>School ID</th>\n",
       "      <th>School Name</th>\n",
       "      <th>Type</th>\n",
       "    </tr>\n",
       "  </thead>\n",
       "  <tbody>\n",
       "    <tr>\n",
       "      <th>0</th>\n",
       "      <td>0</td>\n",
       "      <td>Huang High School</td>\n",
       "      <td>District</td>\n",
       "    </tr>\n",
       "    <tr>\n",
       "      <th>1</th>\n",
       "      <td>1</td>\n",
       "      <td>Figueroa High School</td>\n",
       "      <td>District</td>\n",
       "    </tr>\n",
       "    <tr>\n",
       "      <th>2</th>\n",
       "      <td>2</td>\n",
       "      <td>Shelton High School</td>\n",
       "      <td>Charter</td>\n",
       "    </tr>\n",
       "    <tr>\n",
       "      <th>3</th>\n",
       "      <td>3</td>\n",
       "      <td>Hernandez High School</td>\n",
       "      <td>District</td>\n",
       "    </tr>\n",
       "    <tr>\n",
       "      <th>4</th>\n",
       "      <td>4</td>\n",
       "      <td>Griffin High School</td>\n",
       "      <td>Charter</td>\n",
       "    </tr>\n",
       "  </tbody>\n",
       "</table>\n",
       "</div>"
      ],
      "text/plain": [
       "   School ID            School Name      Type\n",
       "0          0      Huang High School  District\n",
       "1          1   Figueroa High School  District\n",
       "2          2    Shelton High School   Charter\n",
       "3          3  Hernandez High School  District\n",
       "4          4    Griffin High School   Charter"
      ]
     },
     "execution_count": 8,
     "metadata": {},
     "output_type": "execute_result"
    }
   ],
   "source": [
    "#4.3.5 convert three seperate lists of information on high schools into a dataframe- creating a python dictionary from the lists then making a dataframe\n",
    "school_id=[0,1,2,3,4]\n",
    "\n",
    "school_name= [\"Huang High School\",\"Figueroa High School\",\"Shelton High School\",\"Hernandez High School\",\"Griffin High School\"]\n",
    "\n",
    "type_of_school=[\"District\",\"District\",\"Charter\", \"District\", \"Charter\"]\n",
    "\n",
    "#add the Pandas dependency \n",
    "import pandas as pd\n",
    "\n",
    "#create a dictionaty of information on schools \n",
    "high_school_dict={'School ID': school_id,'School Name':school_name,'Type':type_of_school}\n",
    "\n",
    "#conveert the array or list of dictionaries into a dataframe \n",
    "high_school_df=pd.DataFrame(high_school_dict)\n",
    "high_school_df"
   ]
  },
  {
   "cell_type": "code",
   "execution_count": 11,
   "id": "145e5bef",
   "metadata": {},
   "outputs": [
    {
     "data": {
      "text/plain": [
       "array([[0, 'Huang High School', 'Disctrict'],\n",
       "       [1, 'Figueroa High School', 'Disctrict'],\n",
       "       [2, 'Shelton High School', 'Charter'],\n",
       "       [3, 'Hernandez High School', 'District'],\n",
       "       [4, 'Griffin High School', 'Charter']], dtype=object)"
      ]
     },
     "execution_count": 11,
     "metadata": {},
     "output_type": "execute_result"
    }
   ],
   "source": [
    "#4.3.5 get the column names \n",
    "school_df.columns\n",
    "\n",
    "#get the indicies (left hand margin numbers)\n",
    "school_df.index\n",
    "\n",
    "#get the values \n",
    "school_df.values"
   ]
  },
  {
   "cell_type": "code",
   "execution_count": null,
   "id": "171c92e6",
   "metadata": {},
   "outputs": [],
   "source": []
  }
 ],
 "metadata": {
  "kernelspec": {
   "display_name": "PythonData",
   "language": "python",
   "name": "pythondata"
  },
  "language_info": {
   "codemirror_mode": {
    "name": "ipython",
    "version": 3
   },
   "file_extension": ".py",
   "mimetype": "text/x-python",
   "name": "python",
   "nbconvert_exporter": "python",
   "pygments_lexer": "ipython3",
   "version": "3.7.11"
  }
 },
 "nbformat": 4,
 "nbformat_minor": 5
}
