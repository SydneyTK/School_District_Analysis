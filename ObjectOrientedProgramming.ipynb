{
 "cells": [
  {
   "cell_type": "code",
   "execution_count": 17,
   "id": "1c2bad23",
   "metadata": {},
   "outputs": [],
   "source": [
    "class Cat:\n",
    "    def _init_(self, name):\n",
    "        self.name = name        \n",
    "\n",
    "        first_cat=Cat('Felix')\n",
    "        print(first_cat.name)"
   ]
  },
  {
   "cell_type": "code",
   "execution_count": 19,
   "id": "9a67af92",
   "metadata": {},
   "outputs": [],
   "source": [
    "class Dog: \n",
    "    def _init_(self, name, colour, sound):\n",
    "        self.name=name\n",
    "        self.colour=colour \n",
    "        self.sound=sound\n",
    "        \n",
    "    def bark(self):\n",
    "        return self.sound + ' ' + self.sound\n",
    "   \n",
    "        first_dog =Dog('Fido', 'brown', 'woof!') \n",
    "        print( first_dog.name)\n",
    "        print(first_dog.colour)\n",
    "        first_dog.bark()"
   ]
  },
  {
   "cell_type": "code",
   "execution_count": null,
   "id": "79fbf150",
   "metadata": {},
   "outputs": [],
   "source": []
  }
 ],
 "metadata": {
  "kernelspec": {
   "display_name": "PythonData",
   "language": "python",
   "name": "pythondata"
  },
  "language_info": {
   "codemirror_mode": {
    "name": "ipython",
    "version": 3
   },
   "file_extension": ".py",
   "mimetype": "text/x-python",
   "name": "python",
   "nbconvert_exporter": "python",
   "pygments_lexer": "ipython3",
   "version": "3.7.11"
  }
 },
 "nbformat": 4,
 "nbformat_minor": 5
}
